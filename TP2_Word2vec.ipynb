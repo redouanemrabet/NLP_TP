{
  "nbformat": 4,
  "nbformat_minor": 0,
  "metadata": {
    "colab": {
      "provenance": []
    },
    "kernelspec": {
      "name": "python3",
      "display_name": "Python 3"
    },
    "language_info": {
      "name": "python"
    }
  },
  "cells": [
    {
      "cell_type": "code",
      "execution_count": null,
      "metadata": {
        "id": "-aqo1gMVetvf",
        "colab": {
          "base_uri": "https://localhost:8080/"
        },
        "outputId": "0096f8ea-b026-4d10-9fa1-2385c7a8d860"
      },
      "outputs": [
        {
          "output_type": "stream",
          "name": "stderr",
          "text": [
            "[nltk_data] Downloading package punkt to /root/nltk_data...\n",
            "[nltk_data]   Package punkt is already up-to-date!\n"
          ]
        },
        {
          "output_type": "execute_result",
          "data": {
            "text/plain": [
              "True"
            ]
          },
          "metadata": {},
          "execution_count": 23
        }
      ],
      "source": [
        "import gensim\n",
        "import string\n",
        "from nltk.tokenize import word_tokenize\n",
        "from gensim.models import Word2Vec\n",
        "import logging\n",
        "from gensim.models.word2vec import LineSentence\n",
        "from google.colab import drive\n",
        "nltk.download('punkt')"
      ]
    },
    {
      "cell_type": "code",
      "source": [
        "drive.mount('/content/drive')\n",
        "file_path = '/content/drive/MyDrive/Colab Notebooks/text.txt'\n",
        "\n",
        "# Lisez le contenu du fichier\n",
        "with open(file_path, 'r') as file:\n",
        "    text = file.read()\n",
        "\n",
        "# Activer le logging pour voir l'information sur le processus d'entraînement\n",
        "logging.basicConfig(format='%(asctime)s : %(levelname)s : %(message)s', level=logging.INFO)"
      ],
      "metadata": {
        "id": "cA1jpgKCeykQ",
        "colab": {
          "base_uri": "https://localhost:8080/"
        },
        "outputId": "789e5d20-259c-4969-a3b3-963566adefad"
      },
      "execution_count": null,
      "outputs": [
        {
          "output_type": "stream",
          "name": "stdout",
          "text": [
            "Drive already mounted at /content/drive; to attempt to forcibly remount, call drive.mount(\"/content/drive\", force_remount=True).\n"
          ]
        }
      ]
    },
    {
      "cell_type": "code",
      "source": [
        "def clean_text(text):\n",
        "    text = text.lower()\n",
        "    text = text.translate(str.maketrans(\"\", \"\", string.punctuation))\n",
        "    words = word_tokenize(text)\n",
        "    return words"
      ],
      "metadata": {
        "id": "7sAKZFpic8F5"
      },
      "execution_count": null,
      "outputs": []
    },
    {
      "cell_type": "code",
      "source": [
        "sentences = LineSentence(file_path)\n",
        "# Entraîner le modèle Word2Vec\n",
        "model = Word2Vec(sentences, vector_size=100, window=5, min_count=1, workers=4)"
      ],
      "metadata": {
        "id": "SrLQMJESb1MS"
      },
      "execution_count": null,
      "outputs": []
    },
    {
      "cell_type": "code",
      "source": [
        "# 1. Extraire la représentation vectorielle d'un mot\n",
        "def get_vector(word):\n",
        "    return model.wv[word]\n",
        "\n",
        "# 2. Calculer la similarité entre deux mots\n",
        "def calculate_similarity(word1, word2):\n",
        "    return model.wv.similarity(word1, word2)\n",
        "\n",
        "# 3. Trouver les mots les plus similaires à un mot donné\n",
        "def find_similar_words(word, top_n=10):\n",
        "    return model.wv.most_similar(word, topn=top_n)"
      ],
      "metadata": {
        "id": "Rmdrc7BjcC0_"
      },
      "execution_count": null,
      "outputs": []
    },
    {
      "cell_type": "code",
      "source": [
        "# Exemples d'utilisation\n",
        "word_vector = get_vector(\"Marrakech\")\n",
        "similarity = calculate_similarity(\"Morocco\", \"Marrakech\")\n",
        "similar_words = find_similar_words(\"Morocco\")\n",
        "\n",
        "print(\"Vector for 'marrakech':\", word_vector)\n",
        "print(\"Similarity between 'morocco' and 'marrakech':\", similarity)\n",
        "print(\"Words similar to 'Morocco':\", similar_words)"
      ],
      "metadata": {
        "colab": {
          "base_uri": "https://localhost:8080/"
        },
        "id": "w_ElC21NcKPq",
        "outputId": "5e2a4ae4-d595-4ae1-c1bd-4e5e58529189"
      },
      "execution_count": null,
      "outputs": [
        {
          "output_type": "stream",
          "name": "stdout",
          "text": [
            "Vector for 'marrakech': [ 0.00012142  0.00225935  0.00109083  0.00759681 -0.00438246  0.0002005\n",
            "  0.00705657  0.00248873  0.00419066  0.0042231  -0.00128234 -0.00840236\n",
            "  0.00299303 -0.00886829 -0.00269854 -0.0095323  -0.00045026 -0.00800568\n",
            "  0.00735958 -0.00505249  0.00995449 -0.00903623 -0.00422773  0.00193044\n",
            " -0.00299333  0.0014553  -0.00371609 -0.0009369  -0.00583914 -0.00975146\n",
            "  0.0064047   0.0003872   0.00657636 -0.00752834  0.00351312 -0.00975827\n",
            "  0.00760425  0.00579256 -0.00611234  0.00804288 -0.0055962  -0.00866469\n",
            "  0.0014997   0.00313687 -0.00798173 -0.00897674  0.00917933  0.00163403\n",
            "  0.00095845  0.00251138 -0.00344551  0.00166402  0.00190878  0.00982792\n",
            " -0.005656    0.00229033  0.00629863 -0.00666408 -0.00902402  0.00866389\n",
            "  0.00682836 -0.00398289  0.00582461  0.00062614 -0.00517856 -0.00135411\n",
            " -0.00481286  0.00624513  0.00182119 -0.0081643  -0.00023389 -0.00258764\n",
            "  0.00663537 -0.00117195  0.00780541  0.00203016 -0.00383284  0.00816065\n",
            "  0.00282798 -0.00391634 -0.00562837 -0.00304327 -0.00523801  0.00357225\n",
            " -0.00937076 -0.00584419  0.00330995  0.00033269  0.00612294 -0.00371601\n",
            "  0.00011637  0.00254545  0.00546316  0.00164443  0.00997653  0.00384055\n",
            " -0.00704805 -0.00151832 -0.00831523 -0.00538256]\n",
            "Similarity between 'morocco' and 'marrakech': 0.13643038\n",
            "Words similar to 'Morocco': [('every', 0.30490314960479736), ('combine', 0.2739119529724121), ('that', 0.24571363627910614), ('Berber,', 0.2141450047492981), ('civilizations', 0.21399112045764923), ('seeking', 0.21263781189918518), ('11th', 0.20085224509239197), ('\"The', 0.19726517796516418), ('north,', 0.19704383611679077), ('rich', 0.19577334821224213)]\n"
          ]
        }
      ]
    }
  ]
}