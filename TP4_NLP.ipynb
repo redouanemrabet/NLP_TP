{
  "cells": [
    {
      "cell_type": "markdown",
      "metadata": {
        "id": "c4ZLSKDltpIr"
      },
      "source": [
        "<center><h1>TP4 : Hello Rasa</h1></center>"
      ]
    },
    {
      "cell_type": "markdown",
      "metadata": {
        "id": "aGJkrbsntpIu"
      },
      "source": [
        "*faite par BAHI Brahim*"
      ]
    },
    {
      "cell_type": "markdown",
      "metadata": {
        "id": "n8XB4kgchnqn"
      },
      "source": [
        "Adding miniconda"
      ]
    },
    {
      "cell_type": "code",
      "execution_count": null,
      "metadata": {
        "id": "skZdtblFaZZP"
      },
      "outputs": [],
      "source": [
        "!wget https://repo.continuum.io/miniconda/Miniconda3-4.5.4-Linux-x86_64.sh && bash Miniconda3-4.5.4-Linux-x86_64.sh -bfp /usr/local\n",
        "!conda update conda -y -q\n",
        "!source /usr/local/etc/profile.d/conda.sh\n",
        "!conda init\n",
        "!conda install -n root _license -y -q"
      ]
    },
    {
      "cell_type": "markdown",
      "metadata": {
        "id": "_FIipmlwhtIn"
      },
      "source": [
        "creating a new python environment"
      ]
    },
    {
      "cell_type": "code",
      "execution_count": null,
      "metadata": {
        "id": "yNHNmDVfafEz"
      },
      "outputs": [],
      "source": [
        "!conda create -y -q --name myenv python=3.7"
      ]
    },
    {
      "cell_type": "markdown",
      "metadata": {
        "id": "n9ogsJwChxji"
      },
      "source": [
        "checking python version and if everything went well"
      ]
    },
    {
      "cell_type": "code",
      "execution_count": 3,
      "metadata": {
        "colab": {
          "base_uri": "https://localhost:8080/"
        },
        "id": "MEACRNqqaiGx",
        "outputId": "799b9aa0-a1e2-47a9-8d9c-b22ae3db3cc9"
      },
      "outputs": [
        {
          "output_type": "stream",
          "name": "stdout",
          "text": [
            "['', '/env/python', '/usr/local/envs/myenv/lib/python37.zip', '/usr/local/envs/myenv/lib/python3.7', '/usr/local/envs/myenv/lib/python3.7/lib-dynload', '/usr/local/envs/myenv/lib/python3.7/site-packages', '/usr/local/lib/python3.6/site-packages']\n",
            "Python version\n",
            "3.7.16 (default, Jan 17 2023, 22:20:44) \n",
            "[GCC 11.2.0]\n"
          ]
        }
      ],
      "source": [
        "%%bash\n",
        "source activate myenv\n",
        "python\n",
        "import sys\n",
        "sys.path.append('/usr/local/lib/python3.6/site-packages')\n",
        "print(sys.path)\n",
        "print(\"Python version\")\n",
        "print(sys.version)"
      ]
    },
    {
      "cell_type": "markdown",
      "metadata": {
        "id": "hTzC5EPfh6Le"
      },
      "source": [
        "upgrading pip"
      ]
    },
    {
      "cell_type": "code",
      "execution_count": null,
      "metadata": {
        "id": "f2V5VFfqceBo"
      },
      "outputs": [],
      "source": [
        "!source activate myenv\n",
        "!python -m pip uninstall pip\n",
        "!python -m ensurepip\n",
        "!python -m pip install -U pip"
      ]
    },
    {
      "cell_type": "markdown",
      "metadata": {
        "id": "FfSTuXkfh-jT"
      },
      "source": [
        "Installing Rasa"
      ]
    },
    {
      "cell_type": "code",
      "execution_count": null,
      "metadata": {
        "id": "H9zBvIzZZ5Er"
      },
      "outputs": [],
      "source": [
        "!source activate myenv\n",
        "!pip install rasa"
      ]
    },
    {
      "cell_type": "markdown",
      "metadata": {
        "id": "44LhMYm3iBfh"
      },
      "source": [
        "Hello Rasa!"
      ]
    },
    {
      "cell_type": "code",
      "execution_count": null,
      "metadata": {
        "id": "wgz0VwQB29wP"
      },
      "outputs": [],
      "source": [
        "!source activate myenv\n",
        "!pip install python-dotenv"
      ]
    },
    {
      "cell_type": "code",
      "execution_count": null,
      "metadata": {
        "id": "Y_OOzxGCfh83"
      },
      "outputs": [],
      "source": [
        "!source activate myenv\n",
        "!rasa init --no-prompt"
      ]
    },
    {
      "cell_type": "code",
      "execution_count": null,
      "metadata": {
        "id": "p6uRThlJtL6a"
      },
      "outputs": [],
      "source": [
        "!source activate myenv\n",
        "!rasa train\n",
        "!rasa shell nlu"
      ]
    },
    {
      "cell_type": "code",
      "source": [
        "!zip -r /content/file.zip /content"
      ],
      "metadata": {
        "id": "97NEroVAi-K2"
      },
      "execution_count": null,
      "outputs": []
    }
  ],
  "metadata": {
    "accelerator": "GPU",
    "colab": {
      "provenance": []
    },
    "kernelspec": {
      "display_name": "Python 3",
      "name": "python3"
    },
    "language_info": {
      "name": "python"
    }
  },
  "nbformat": 4,
  "nbformat_minor": 0
}